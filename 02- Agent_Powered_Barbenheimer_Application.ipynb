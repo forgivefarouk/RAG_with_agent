{
  "cells": [
    {
      "cell_type": "markdown",
      "metadata": {
        "id": "view-in-github",
        "colab_type": "text"
      },
      "source": [
        "<a href=\"https://colab.research.google.com/github/forgivefarouk/RAG_with_agent/blob/main/02-%20Agent_Powered_Barbenheimer_Application.ipynb\" target=\"_parent\"><img src=\"https://colab.research.google.com/assets/colab-badge.svg\" alt=\"Open In Colab\"/></a>"
      ]
    },
    {
      "cell_type": "markdown",
      "metadata": {
        "id": "iInYRJcdb6gA"
      },
      "source": [
        "# Questioning Barbie and Oppenheimer Through the Use of Agents\n",
        "\n",
        "In the following notebook we will build an application that queries both the Barbie and Oppenheimer movies Wikipedia pages, as well as their reviews.\n",
        "\n",
        "The main focus of this notebook is to showcase a brief introduction to Agents.\n",
        "\n",
        "## Build 🏗️\n",
        "\n",
        "There are 3 main tasks in this notebook:\n",
        "\n",
        "1. Contruct a Barbie retriever\n",
        "2. Construct an Oppenheimer retriever\n",
        "3. Combine the two and allow users to query both resources from a single input through the use of Agents\n"
      ]
    },
    {
      "cell_type": "code",
      "source": [
        "from google.colab import drive\n",
        "drive.mount('/content/drive')"
      ],
      "metadata": {
        "colab": {
          "base_uri": "https://localhost:8080/"
        },
        "id": "It3ZyrrdZhGn",
        "outputId": "d3c95715-e64a-42e9-fa03-b4b104e88263"
      },
      "execution_count": 1,
      "outputs": [
        {
          "output_type": "stream",
          "name": "stdout",
          "text": [
            "Mounted at /content/drive\n"
          ]
        }
      ]
    },
    {
      "cell_type": "markdown",
      "metadata": {
        "id": "CGgh4IO2b6gK"
      },
      "source": [
        "### Dependencies\n",
        "\n",
        "As always, let's start with some dependencies!"
      ]
    },
    {
      "cell_type": "code",
      "execution_count": 2,
      "metadata": {
        "id": "FiktJVN9b6gL",
        "colab": {
          "base_uri": "https://localhost:8080/"
        },
        "outputId": "be053c64-c61e-4444-8b6d-dfe612ccb3c1"
      },
      "outputs": [
        {
          "output_type": "stream",
          "name": "stdout",
          "text": [
            "\u001b[2K     \u001b[90m━━━━━━━━━━━━━━━━━━━━━━━━━━━━━━━━━━━━━━━━\u001b[0m \u001b[32m806.2/806.2 kB\u001b[0m \u001b[31m13.3 MB/s\u001b[0m eta \u001b[36m0:00:00\u001b[0m\n",
            "\u001b[2K     \u001b[90m━━━━━━━━━━━━━━━━━━━━━━━━━━━━━━━━━━━━━━━━\u001b[0m \u001b[32m227.4/227.4 kB\u001b[0m \u001b[31m23.9 MB/s\u001b[0m eta \u001b[36m0:00:00\u001b[0m\n",
            "\u001b[2K     \u001b[90m━━━━━━━━━━━━━━━━━━━━━━━━━━━━━━━━━━━━━━━━\u001b[0m \u001b[32m1.8/1.8 MB\u001b[0m \u001b[31m58.9 MB/s\u001b[0m eta \u001b[36m0:00:00\u001b[0m\n",
            "\u001b[2K     \u001b[90m━━━━━━━━━━━━━━━━━━━━━━━━━━━━━━━━━━━━━━━━\u001b[0m \u001b[32m252.6/252.6 kB\u001b[0m \u001b[31m24.8 MB/s\u001b[0m eta \u001b[36m0:00:00\u001b[0m\n",
            "\u001b[2K     \u001b[90m━━━━━━━━━━━━━━━━━━━━━━━━━━━━━━━━━━━━━━━━\u001b[0m \u001b[32m64.9/64.9 kB\u001b[0m \u001b[31m8.7 MB/s\u001b[0m eta \u001b[36m0:00:00\u001b[0m\n",
            "\u001b[2K     \u001b[90m━━━━━━━━━━━━━━━━━━━━━━━━━━━━━━━━━━━━━━━━\u001b[0m \u001b[32m75.6/75.6 kB\u001b[0m \u001b[31m9.2 MB/s\u001b[0m eta \u001b[36m0:00:00\u001b[0m\n",
            "\u001b[2K     \u001b[90m━━━━━━━━━━━━━━━━━━━━━━━━━━━━━━━━━━━━━━━━\u001b[0m \u001b[32m49.4/49.4 kB\u001b[0m \u001b[31m6.0 MB/s\u001b[0m eta \u001b[36m0:00:00\u001b[0m\n",
            "\u001b[2K     \u001b[90m━━━━━━━━━━━━━━━━━━━━━━━━━━━━━━━━━━━━━━━━\u001b[0m \u001b[32m77.8/77.8 kB\u001b[0m \u001b[31m10.2 MB/s\u001b[0m eta \u001b[36m0:00:00\u001b[0m\n",
            "\u001b[2K     \u001b[90m━━━━━━━━━━━━━━━━━━━━━━━━━━━━━━━━━━━━━━━━\u001b[0m \u001b[32m58.3/58.3 kB\u001b[0m \u001b[31m7.7 MB/s\u001b[0m eta \u001b[36m0:00:00\u001b[0m\n",
            "\u001b[2K     \u001b[90m━━━━━━━━━━━━━━━━━━━━━━━━━━━━━━━━━━━━━━━━\u001b[0m \u001b[32m138.5/138.5 kB\u001b[0m \u001b[31m16.9 MB/s\u001b[0m eta \u001b[36m0:00:00\u001b[0m\n",
            "\u001b[?25h"
          ]
        }
      ],
      "source": [
        "!pip install -q -U langchain openai"
      ]
    },
    {
      "cell_type": "code",
      "execution_count": 3,
      "metadata": {
        "id": "QTLujSolb6gO"
      },
      "outputs": [],
      "source": [
        "import getpass\n",
        "import os\n",
        "from google.colab import userdata\n",
        "os.environ[\"OPENAI_API_KEY\"] = userdata.get('openai_key')"
      ]
    },
    {
      "cell_type": "markdown",
      "metadata": {
        "id": "JSxIvw0bb6gP"
      },
      "source": [
        "### LLM\n",
        "\n",
        "We will be leveraging OpenAI's `gpt-3.5-turbo` throughout the notebook, and we can keep it consistent throughout!"
      ]
    },
    {
      "cell_type": "code",
      "execution_count": 4,
      "metadata": {
        "id": "sjWsXWJ8b6gP",
        "colab": {
          "base_uri": "https://localhost:8080/"
        },
        "outputId": "c9fd4147-941b-41c3-a821-04d2b7de27d1"
      },
      "outputs": [
        {
          "output_type": "stream",
          "name": "stderr",
          "text": [
            "/usr/local/lib/python3.10/dist-packages/langchain_core/_api/deprecation.py:117: LangChainDeprecationWarning: The class `langchain_community.chat_models.openai.ChatOpenAI` was deprecated in langchain-community 0.0.10 and will be removed in 0.2.0. An updated version of the class exists in the langchain-openai package and should be used instead. To use it run `pip install -U langchain-openai` and import as `from langchain_openai import ChatOpenAI`.\n",
            "  warn_deprecated(\n"
          ]
        }
      ],
      "source": [
        "from langchain.chat_models import ChatOpenAI\n",
        "llm = ChatOpenAI(model=\"gpt-3.5-turbo\", temperature = 0)"
      ]
    },
    {
      "cell_type": "markdown",
      "metadata": {
        "id": "i0JAIcDib6gQ"
      },
      "source": [
        "### Data Collection and Transformation\n",
        "\n",
        "We'll be leveraging the `WikipediaLoader` tool to collect information from Wikipedia.\n",
        "\n",
        "Be sure to set the `doc_content_chars_max` parameter so that you capture the *entire* Wikipedia article content."
      ]
    },
    {
      "cell_type": "code",
      "execution_count": 5,
      "metadata": {
        "id": "NVy3YHkyb6gR",
        "colab": {
          "base_uri": "https://localhost:8080/"
        },
        "outputId": "705ad09b-55a4-46a8-b053-96e06d0f8874"
      },
      "outputs": [
        {
          "output_type": "stream",
          "name": "stdout",
          "text": [
            "  Preparing metadata (setup.py) ... \u001b[?25l\u001b[?25hdone\n",
            "  Building wheel for wikipedia (setup.py) ... \u001b[?25l\u001b[?25hdone\n"
          ]
        }
      ],
      "source": [
        "!pip install -q -U wikipedia"
      ]
    },
    {
      "cell_type": "code",
      "execution_count": 6,
      "metadata": {
        "id": "7BseljTpb6gT"
      },
      "outputs": [],
      "source": [
        "from langchain.document_loaders import WikipediaLoader, CSVLoader\n",
        "\n",
        "barbie_wikipedia_docs = WikipediaLoader(\n",
        "    query=\"Barbie (film)\",\n",
        "    load_max_docs= 1,\n",
        "    doc_content_chars_max=1_000_000\n",
        "    ).load()\n",
        "\n",
        "barbie_csv_docs = CSVLoader(\n",
        "    file_path='/content/drive/MyDrive/thotron/RAG/Week 1/Tuesday/barbie.csv',\n",
        "    source_column='Review_Url',\n",
        "    ).load()"
      ]
    },
    {
      "cell_type": "markdown",
      "metadata": {
        "id": "_MJAsLBMb6gU"
      },
      "source": [
        "Since we'll be using same format source documentation separated by topic, we can save ourselves some extra effort and set up our splitters once.\n",
        "\n",
        "We're going to leverage the `RecursiveCharacterTextSplitter` again, this time paying close attention to the format our Wikipedia articles and reviews are in so we can be sure to chunk them appropritately.\n",
        "\n",
        "> HINT: You can pass a list of separators when you intialize your `RecursiveTextSplitter`! They are acted on in order of element 0 -> element len(list).\n",
        "\n",
        "RELEVANT DOCS:\n",
        "- [`RecursiveCharacterTextSplitter`](https://api.python.langchain.com/en/latest/text_splitter/langchain.text_splitter.RecursiveCharacterTextSplitter.html#langchain.text_splitter.RecursiveCharacterTextSplitter)"
      ]
    },
    {
      "cell_type": "code",
      "execution_count": 7,
      "metadata": {
        "id": "eF2Agau9b6gV"
      },
      "outputs": [],
      "source": [
        "from langchain.text_splitter import RecursiveCharacterTextSplitter\n",
        "\n",
        "wikipedia_text_splitter = RecursiveCharacterTextSplitter(\n",
        "    chunk_size = 500,\n",
        "    chunk_overlap = 0,\n",
        "    length_function = len,\n",
        "    is_separator_regex= False,\n",
        "    separators = [\"\\n==\",\"\\n\",\" \"]            # keep headings, then paragraphs, then sentences\n",
        ")\n",
        "\n",
        "csv_text_splitter = RecursiveCharacterTextSplitter(\n",
        "    chunk_size = 1000,\n",
        "    chunk_overlap = 50,\n",
        "    length_function = len,\n",
        "    is_separator_regex= False,\n",
        "    separators = [\"\\n\",\" \"] # keep paragraphs, then sentences\n",
        ")\n",
        "\n",
        "chunked_barbie_wikipedia_docs = wikipedia_text_splitter.transform_documents(barbie_wikipedia_docs)\n",
        "chunked_barbie_csv_docs = csv_text_splitter.transform_documents(barbie_csv_docs)"
      ]
    },
    {
      "cell_type": "markdown",
      "metadata": {
        "id": "FXcgmUy8b6gW"
      },
      "source": [
        "#### Retrieval and Embedding Strategy\n",
        "\n",
        "We've already discussed the useful application of `CacheBackedEmbeddings`, so let's do it again!\n",
        "\n",
        "RELEVANT DOCS:\n",
        "- [`CacheBackedEmbeddings`](https://api.python.langchain.com/en/latest/embeddings/langchain.embeddings.cache.CacheBackedEmbeddings.html#langchain-embeddings-cache-cachebackedembeddings)"
      ]
    },
    {
      "cell_type": "code",
      "execution_count": 8,
      "metadata": {
        "id": "9JDhS3pob6gX",
        "colab": {
          "base_uri": "https://localhost:8080/"
        },
        "outputId": "1207ffb3-61a2-4033-d0f2-21fc673d6c11"
      },
      "outputs": [
        {
          "output_type": "stream",
          "name": "stdout",
          "text": [
            "\u001b[2K     \u001b[90m━━━━━━━━━━━━━━━━━━━━━━━━━━━━━━━━━━━━━━━━\u001b[0m \u001b[32m1.8/1.8 MB\u001b[0m \u001b[31m15.7 MB/s\u001b[0m eta \u001b[36m0:00:00\u001b[0m\n",
            "\u001b[2K     \u001b[90m━━━━━━━━━━━━━━━━━━━━━━━━━━━━━━━━━━━━━━━━\u001b[0m \u001b[32m27.0/27.0 MB\u001b[0m \u001b[31m35.3 MB/s\u001b[0m eta \u001b[36m0:00:00\u001b[0m\n",
            "\u001b[?25h"
          ]
        }
      ],
      "source": [
        "!pip install -q -U rank_bm25 tiktoken faiss-cpu"
      ]
    },
    {
      "cell_type": "code",
      "execution_count": 9,
      "metadata": {
        "id": "UpfyKEGHb6gY",
        "colab": {
          "base_uri": "https://localhost:8080/"
        },
        "outputId": "0226e279-aa8a-4ec3-c5c8-5a20c5403457"
      },
      "outputs": [
        {
          "output_type": "stream",
          "name": "stderr",
          "text": [
            "/usr/local/lib/python3.10/dist-packages/langchain_core/_api/deprecation.py:117: LangChainDeprecationWarning: The class `langchain_community.embeddings.openai.OpenAIEmbeddings` was deprecated in langchain-community 0.0.9 and will be removed in 0.2.0. An updated version of the class exists in the langchain-openai package and should be used instead. To use it run `pip install -U langchain-openai` and import as `from langchain_openai import OpenAIEmbeddings`.\n",
            "  warn_deprecated(\n"
          ]
        }
      ],
      "source": [
        "from langchain.retrievers import BM25Retriever, EnsembleRetriever\n",
        "from langchain.vectorstores import FAISS\n",
        "from langchain.embeddings.openai import OpenAIEmbeddings\n",
        "from langchain.embeddings import CacheBackedEmbeddings\n",
        "from langchain.storage import LocalFileStore\n",
        "\n",
        "# set up cached embeddings store\n",
        "store = LocalFileStore('./store/')\n",
        "\n",
        "core_embeddings_model = OpenAIEmbeddings()\n",
        "\n",
        "embedder = CacheBackedEmbeddings.from_bytes_store(\n",
        "    core_embeddings_model , store ,namespace=core_embeddings_model.model\n",
        ")"
      ]
    },
    {
      "cell_type": "markdown",
      "metadata": {
        "id": "F0bc4ihWb6gY"
      },
      "source": [
        "We'll implement a `FAISS` vectorstore, and create a retriever from it."
      ]
    },
    {
      "cell_type": "code",
      "execution_count": 10,
      "metadata": {
        "id": "uit5YtmMb6gZ"
      },
      "outputs": [],
      "source": [
        "barbie_csv_faiss_retriever = FAISS.from_documents(chunked_barbie_csv_docs,embedder).as_retriever()\n"
      ]
    },
    {
      "cell_type": "markdown",
      "metadata": {
        "id": "5JWWIw4hb6gZ"
      },
      "source": [
        "There are a number of excellent options to retrieve documents - we'll be looking at an additional example today, which is called the `EnsembleRetriever`.\n",
        "\n",
        "The method this is using is outlined in [this paper](https://plg.uwaterloo.ca/~gvcormac/cormacksigir09-rrf.pdf).\n",
        "\n",
        "The brief explanation is:\n",
        "\n",
        "1. We collect results from two different retrieval methods over the same corpus\n",
        "2. We apply a reranking algorithm to rerank our source documents to be the *most relevant* without losing specific or potentially low-ranked information rich documents\n",
        "3. We feed the top-k results into the LLM with our query as context.\n",
        "\n",
        "> HINT: Your weight list should be of type `List[float]` and the `sum(List[float])` should be `1`."
      ]
    },
    {
      "cell_type": "code",
      "execution_count": 11,
      "metadata": {
        "id": "3kxMbkkDb6gZ"
      },
      "outputs": [],
      "source": [
        "# set up BM25 retriever\n",
        "barbie_wikipedia_bm25_retriever = BM25Retriever.from_documents(\n",
        "    chunked_barbie_wikipedia_docs,\n",
        ")\n",
        "barbie_wikipedia_bm25_retriever.k = 1\n",
        "\n",
        "# set up FAISS vector store\n",
        "barbie_wikipedia_faiss_store = FAISS.from_documents(\n",
        "    chunked_barbie_wikipedia_docs,\n",
        "    embedder\n",
        ")\n",
        "barbie_wikipedia_faiss_retriever = barbie_wikipedia_faiss_store.as_retriever(search_kwargs={\"k\": 1})\n",
        "\n",
        "# set up ensemble retriever\n",
        "barbie_ensemble_retriever = EnsembleRetriever(\n",
        "    retrievers=[barbie_wikipedia_bm25_retriever,barbie_wikipedia_faiss_retriever],\n",
        "    weights= [0.25,0.75]\n",
        ")"
      ]
    },
    {
      "cell_type": "markdown",
      "metadata": {
        "id": "coZj91gxb6gZ"
      },
      "source": [
        "#### Retrieval Agent\n",
        "\n",
        "We can create a simple conversational retrieval Agent by using the built-ins provided by LangChain!\n",
        "\n",
        "> HINT: Be sure to provide good natural language descriptions of what the tool should be used for to get the best results.\n",
        "\n",
        "RELEVANT DOCS:\n",
        "- [`create_retriever_tool`](https://api.python.langchain.com/en/latest/agents/langchain.agents.agent_toolkits.conversational_retrieval.tool.create_retriever_tool.html#langchain.agents.agent_toolkits.conversational_retrieval.tool.create_retriever_tool)"
      ]
    },
    {
      "cell_type": "code",
      "execution_count": 12,
      "metadata": {
        "id": "HeKv4f8ib6ga"
      },
      "outputs": [],
      "source": [
        "from langchain.agents.agent_toolkits import create_retriever_tool\n",
        "\n",
        "barbie_wikipedia_retrieval_tool = create_retriever_tool(\n",
        "    barbie_ensemble_retriever,\n",
        "    \"wikipedia\",\n",
        "    \"Searches and returns documents regarding the plot, history, and cast of the Barbie movie\"\n",
        ")\n",
        "\n",
        "barbie_csv_retrieval_tool = create_retriever_tool(\n",
        "    barbie_csv_faiss_retriever,\n",
        "    \"PublicReviews\",\n",
        "    \"Searches and returns documents regarding public reviews of the Barbie movie\"\n",
        ")\n",
        "\n",
        "barbie_retriever_tools = [barbie_wikipedia_retrieval_tool,barbie_csv_retrieval_tool]"
      ]
    },
    {
      "cell_type": "markdown",
      "metadata": {
        "id": "RrvJfiMnb6ga"
      },
      "source": [
        "Now that we've created our tools, we can combined them into an agent!\n",
        "\n",
        "RELEVANT DOCS:\n",
        "- [`create_conversational_retrieval_agent`](https://api.python.langchain.com/en/latest/agents/langchain.agents.agent_toolkits.conversational_retrieval.openai_functions.create_conversational_retrieval_agent.html#langchain.agents.agent_toolkits.conversational_retrieval.openai_functions.create_conversational_retrieval_agent)"
      ]
    },
    {
      "cell_type": "code",
      "execution_count": 13,
      "metadata": {
        "id": "oMJJdKgzb6ga"
      },
      "outputs": [],
      "source": [
        "from langchain.agents.agent_toolkits import create_conversational_retrieval_agent\n",
        "\n",
        "barbie_retriever_agent_executor = create_conversational_retrieval_agent(llm,barbie_retriever_tools,verbose=True)"
      ]
    },
    {
      "cell_type": "code",
      "execution_count": 14,
      "metadata": {
        "id": "qIfruW_Rb6ga",
        "colab": {
          "base_uri": "https://localhost:8080/"
        },
        "outputId": "81da8a7e-2f6c-4441-c6e9-2dbb3b702af8"
      },
      "outputs": [
        {
          "output_type": "stream",
          "name": "stderr",
          "text": [
            "/usr/local/lib/python3.10/dist-packages/langchain_core/_api/deprecation.py:117: LangChainDeprecationWarning: The function `__call__` was deprecated in LangChain 0.1.0 and will be removed in 0.2.0. Use invoke instead.\n",
            "  warn_deprecated(\n"
          ]
        },
        {
          "output_type": "stream",
          "name": "stdout",
          "text": [
            "\n",
            "\n",
            "\u001b[1m> Entering new AgentExecutor chain...\u001b[0m\n",
            "\u001b[32;1m\u001b[1;3m\n",
            "Invoking: `PublicReviews` with `{'query': 'Barbie movie reviews'}`\n",
            "\n",
            "\n",
            "\u001b[0m\u001b[33;1m\u001b[1;3mReview_Date: 29 July 2023\n",
            "Author: planktonrules\n",
            "Rating: 7\n",
            "Review_Title: Good...not great\n",
            "Review: \"Barbie\" is a movie that is setting all sorts of records, so it's obvious that the film is touching many people. For some, it's the fun of seeing a doll come to life, for others it's the theme of empowerment that make the movie a big hit. As for me, I did like it and thought it was a pretty good movie...but it's not for everyone.\n",
            "Review_Url: /review/rw9243378/?ref_=tt_urv\n",
            "\n",
            "Review_Date: 7 August 2023\n",
            "Author: bradykitchen-33648\n",
            "Rating: 6\n",
            "Review_Title: Barbie: Review\n",
            "Review: Good movie not a great one.\n",
            "Review_Url: /review/rw9243378/?ref_=tt_urv\n",
            "\n",
            "Review_Date: 19 July 2023\n",
            "Author: mieriks\n",
            "Rating: 7\n",
            "Review_Title: Fantastic attention to details\n",
            "Review: This movie, about Barbie who suffers a crisis that leads her to question her world and her existence, is a good fantasy movie!\n",
            "Review_Url: /review/rw9243378/?ref_=tt_urv\n",
            "\n",
            "Review_Date: 30 July 2023\n",
            "Author: Imaculata\n",
            "Rating: 7\n",
            "Review_Title: Funny and entertaining but kind of a mess\n",
            "Review: The Barbie movie is a very mixed bag. It tries to appeal to both young girls and adults it seems, but this leads it to be very inconsistent with its humor. Margot Robbie does a fantastic job as Barbie and especially the opening works really well in highlighting the absurdity of Barbie's world, where its houses are all open and have no stairs, and its showers have no water and the fridge is filled with a drawing of groceries. All that works fantastic. But mixed into this is a lot of adult humor and sexual innuendo, which makes for a strange mix. It isn't until after the first act, where the movie tries to be more than just a movie about toys, that it kind of falls apart.\n",
            "Review_Url: /review/rw9243378/?ref_=tt_urv\u001b[0m\u001b[32;1m\u001b[1;3mThe Barbie movie received mixed reviews from viewers. Some people enjoyed the movie for its fun and empowerment themes, while others found it to be a bit inconsistent and not for everyone. One reviewer mentioned that the movie explores Barbie suffering a crisis that leads her to question her world and existence, adding a philosophical element to the storyline. Additionally, the movie tries to appeal to both young girls and adults, incorporating adult humor and themes, which may have contributed to the mixed reactions.\u001b[0m\n",
            "\n",
            "\u001b[1m> Finished chain.\u001b[0m\n"
          ]
        },
        {
          "output_type": "execute_result",
          "data": {
            "text/plain": [
              "{'input': 'Did people like Barbie, or did they find it too Philosphical? If they did, can you tell me why the movie is so Philosophical?',\n",
              " 'chat_history': [HumanMessage(content='Did people like Barbie, or did they find it too Philosphical? If they did, can you tell me why the movie is so Philosophical?'),\n",
              "  AIMessage(content='', additional_kwargs={'function_call': {'arguments': '{\"query\":\"Barbie movie reviews\"}', 'name': 'PublicReviews'}}),\n",
              "  FunctionMessage(content='Review_Date: 29 July 2023\\nAuthor: planktonrules\\nRating: 7\\nReview_Title: Good...not great\\nReview: \"Barbie\" is a movie that is setting all sorts of records, so it\\'s obvious that the film is touching many people. For some, it\\'s the fun of seeing a doll come to life, for others it\\'s the theme of empowerment that make the movie a big hit. As for me, I did like it and thought it was a pretty good movie...but it\\'s not for everyone.\\nReview_Url: /review/rw9243378/?ref_=tt_urv\\n\\nReview_Date: 7 August 2023\\nAuthor: bradykitchen-33648\\nRating: 6\\nReview_Title: Barbie: Review\\nReview: Good movie not a great one.\\nReview_Url: /review/rw9243378/?ref_=tt_urv\\n\\nReview_Date: 19 July 2023\\nAuthor: mieriks\\nRating: 7\\nReview_Title: Fantastic attention to details\\nReview: This movie, about Barbie who suffers a crisis that leads her to question her world and her existence, is a good fantasy movie!\\nReview_Url: /review/rw9243378/?ref_=tt_urv\\n\\nReview_Date: 30 July 2023\\nAuthor: Imaculata\\nRating: 7\\nReview_Title: Funny and entertaining but kind of a mess\\nReview: The Barbie movie is a very mixed bag. It tries to appeal to both young girls and adults it seems, but this leads it to be very inconsistent with its humor. Margot Robbie does a fantastic job as Barbie and especially the opening works really well in highlighting the absurdity of Barbie\\'s world, where its houses are all open and have no stairs, and its showers have no water and the fridge is filled with a drawing of groceries. All that works fantastic. But mixed into this is a lot of adult humor and sexual innuendo, which makes for a strange mix. It isn\\'t until after the first act, where the movie tries to be more than just a movie about toys, that it kind of falls apart.\\nReview_Url: /review/rw9243378/?ref_=tt_urv', name='PublicReviews'),\n",
              "  AIMessage(content='The Barbie movie received mixed reviews from viewers. Some people enjoyed the movie for its fun and empowerment themes, while others found it to be a bit inconsistent and not for everyone. One reviewer mentioned that the movie explores Barbie suffering a crisis that leads her to question her world and existence, adding a philosophical element to the storyline. Additionally, the movie tries to appeal to both young girls and adults, incorporating adult humor and themes, which may have contributed to the mixed reactions.')],\n",
              " 'output': 'The Barbie movie received mixed reviews from viewers. Some people enjoyed the movie for its fun and empowerment themes, while others found it to be a bit inconsistent and not for everyone. One reviewer mentioned that the movie explores Barbie suffering a crisis that leads her to question her world and existence, adding a philosophical element to the storyline. Additionally, the movie tries to appeal to both young girls and adults, incorporating adult humor and themes, which may have contributed to the mixed reactions.',\n",
              " 'intermediate_steps': [(AgentActionMessageLog(tool='PublicReviews', tool_input={'query': 'Barbie movie reviews'}, log=\"\\nInvoking: `PublicReviews` with `{'query': 'Barbie movie reviews'}`\\n\\n\\n\", message_log=[AIMessage(content='', additional_kwargs={'function_call': {'arguments': '{\"query\":\"Barbie movie reviews\"}', 'name': 'PublicReviews'}})]),\n",
              "   'Review_Date: 29 July 2023\\nAuthor: planktonrules\\nRating: 7\\nReview_Title: Good...not great\\nReview: \"Barbie\" is a movie that is setting all sorts of records, so it\\'s obvious that the film is touching many people. For some, it\\'s the fun of seeing a doll come to life, for others it\\'s the theme of empowerment that make the movie a big hit. As for me, I did like it and thought it was a pretty good movie...but it\\'s not for everyone.\\nReview_Url: /review/rw9243378/?ref_=tt_urv\\n\\nReview_Date: 7 August 2023\\nAuthor: bradykitchen-33648\\nRating: 6\\nReview_Title: Barbie: Review\\nReview: Good movie not a great one.\\nReview_Url: /review/rw9243378/?ref_=tt_urv\\n\\nReview_Date: 19 July 2023\\nAuthor: mieriks\\nRating: 7\\nReview_Title: Fantastic attention to details\\nReview: This movie, about Barbie who suffers a crisis that leads her to question her world and her existence, is a good fantasy movie!\\nReview_Url: /review/rw9243378/?ref_=tt_urv\\n\\nReview_Date: 30 July 2023\\nAuthor: Imaculata\\nRating: 7\\nReview_Title: Funny and entertaining but kind of a mess\\nReview: The Barbie movie is a very mixed bag. It tries to appeal to both young girls and adults it seems, but this leads it to be very inconsistent with its humor. Margot Robbie does a fantastic job as Barbie and especially the opening works really well in highlighting the absurdity of Barbie\\'s world, where its houses are all open and have no stairs, and its showers have no water and the fridge is filled with a drawing of groceries. All that works fantastic. But mixed into this is a lot of adult humor and sexual innuendo, which makes for a strange mix. It isn\\'t until after the first act, where the movie tries to be more than just a movie about toys, that it kind of falls apart.\\nReview_Url: /review/rw9243378/?ref_=tt_urv')]}"
            ]
          },
          "metadata": {},
          "execution_count": 14
        }
      ],
      "source": [
        "barbie_retriever_agent_executor({\"input\" : \"Did people like Barbie, or did they find it too Philosphical? If they did, can you tell me why the movie is so Philosophical?\"})"
      ]
    },
    {
      "cell_type": "code",
      "execution_count": 15,
      "metadata": {
        "id": "OuTJZ1Tlb6ga",
        "colab": {
          "base_uri": "https://localhost:8080/"
        },
        "outputId": "0adabd65-ec23-4210-b89c-2dcc23f5b91d"
      },
      "outputs": [
        {
          "output_type": "stream",
          "name": "stdout",
          "text": [
            "\n",
            "\n",
            "\u001b[1m> Entering new AgentExecutor chain...\u001b[0m\n",
            "\u001b[32;1m\u001b[1;3m\n",
            "Invoking: `wikipedia` with `{'query': 'Barbie movie plot'}`\n",
            "\n",
            "\n",
            "\u001b[0m\u001b[36;1m\u001b[1;3mBarbie in a toy box for remanufacturing, but she escapes with Gloria and Sasha's help, and the three travel to Barbieland with Mattel executives in pursuit.\n",
            "\n",
            "song, director Greta Gerwig said that she was a fan of Matchbox Twenty and \"I never put anything in a movie I don't love.\" \"Spice Up Your Life\" by Spice Girls plays in a flashback scene showing a little girl's rough play creating \"Weird Barbie.\"\u001b[0m\u001b[32;1m\u001b[1;3mThe quick summary of the Barbie movie plot is that Barbie is in a toy box for remanufacturing but escapes with the help of Gloria and Sasha. They travel to Barbieland while being pursued by Mattel executives.\u001b[0m\n",
            "\n",
            "\u001b[1m> Finished chain.\u001b[0m\n"
          ]
        },
        {
          "output_type": "execute_result",
          "data": {
            "text/plain": [
              "{'input': 'What is a very quick summary of the plot of the Barbie movie?',\n",
              " 'chat_history': [HumanMessage(content='Did people like Barbie, or did they find it too Philosphical? If they did, can you tell me why the movie is so Philosophical?'),\n",
              "  AIMessage(content='', additional_kwargs={'function_call': {'arguments': '{\"query\":\"Barbie movie reviews\"}', 'name': 'PublicReviews'}}),\n",
              "  FunctionMessage(content='Review_Date: 29 July 2023\\nAuthor: planktonrules\\nRating: 7\\nReview_Title: Good...not great\\nReview: \"Barbie\" is a movie that is setting all sorts of records, so it\\'s obvious that the film is touching many people. For some, it\\'s the fun of seeing a doll come to life, for others it\\'s the theme of empowerment that make the movie a big hit. As for me, I did like it and thought it was a pretty good movie...but it\\'s not for everyone.\\nReview_Url: /review/rw9243378/?ref_=tt_urv\\n\\nReview_Date: 7 August 2023\\nAuthor: bradykitchen-33648\\nRating: 6\\nReview_Title: Barbie: Review\\nReview: Good movie not a great one.\\nReview_Url: /review/rw9243378/?ref_=tt_urv\\n\\nReview_Date: 19 July 2023\\nAuthor: mieriks\\nRating: 7\\nReview_Title: Fantastic attention to details\\nReview: This movie, about Barbie who suffers a crisis that leads her to question her world and her existence, is a good fantasy movie!\\nReview_Url: /review/rw9243378/?ref_=tt_urv\\n\\nReview_Date: 30 July 2023\\nAuthor: Imaculata\\nRating: 7\\nReview_Title: Funny and entertaining but kind of a mess\\nReview: The Barbie movie is a very mixed bag. It tries to appeal to both young girls and adults it seems, but this leads it to be very inconsistent with its humor. Margot Robbie does a fantastic job as Barbie and especially the opening works really well in highlighting the absurdity of Barbie\\'s world, where its houses are all open and have no stairs, and its showers have no water and the fridge is filled with a drawing of groceries. All that works fantastic. But mixed into this is a lot of adult humor and sexual innuendo, which makes for a strange mix. It isn\\'t until after the first act, where the movie tries to be more than just a movie about toys, that it kind of falls apart.\\nReview_Url: /review/rw9243378/?ref_=tt_urv', name='PublicReviews'),\n",
              "  AIMessage(content='The Barbie movie received mixed reviews from viewers. Some people enjoyed the movie for its fun and empowerment themes, while others found it to be a bit inconsistent and not for everyone. One reviewer mentioned that the movie explores Barbie suffering a crisis that leads her to question her world and existence, adding a philosophical element to the storyline. Additionally, the movie tries to appeal to both young girls and adults, incorporating adult humor and themes, which may have contributed to the mixed reactions.'),\n",
              "  HumanMessage(content='What is a very quick summary of the plot of the Barbie movie?'),\n",
              "  AIMessage(content='', additional_kwargs={'function_call': {'arguments': '{\"query\":\"Barbie movie plot\"}', 'name': 'wikipedia'}}),\n",
              "  FunctionMessage(content='Barbie in a toy box for remanufacturing, but she escapes with Gloria and Sasha\\'s help, and the three travel to Barbieland with Mattel executives in pursuit.\\n\\nsong, director Greta Gerwig said that she was a fan of Matchbox Twenty and \"I never put anything in a movie I don\\'t love.\" \"Spice Up Your Life\" by Spice Girls plays in a flashback scene showing a little girl\\'s rough play creating \"Weird Barbie.\"', name='wikipedia'),\n",
              "  AIMessage(content='The quick summary of the Barbie movie plot is that Barbie is in a toy box for remanufacturing but escapes with the help of Gloria and Sasha. They travel to Barbieland while being pursued by Mattel executives.')],\n",
              " 'output': 'The quick summary of the Barbie movie plot is that Barbie is in a toy box for remanufacturing but escapes with the help of Gloria and Sasha. They travel to Barbieland while being pursued by Mattel executives.',\n",
              " 'intermediate_steps': [(AgentActionMessageLog(tool='wikipedia', tool_input={'query': 'Barbie movie plot'}, log=\"\\nInvoking: `wikipedia` with `{'query': 'Barbie movie plot'}`\\n\\n\\n\", message_log=[AIMessage(content='', additional_kwargs={'function_call': {'arguments': '{\"query\":\"Barbie movie plot\"}', 'name': 'wikipedia'}})]),\n",
              "   'Barbie in a toy box for remanufacturing, but she escapes with Gloria and Sasha\\'s help, and the three travel to Barbieland with Mattel executives in pursuit.\\n\\nsong, director Greta Gerwig said that she was a fan of Matchbox Twenty and \"I never put anything in a movie I don\\'t love.\" \"Spice Up Your Life\" by Spice Girls plays in a flashback scene showing a little girl\\'s rough play creating \"Weird Barbie.\"')]}"
            ]
          },
          "metadata": {},
          "execution_count": 15
        }
      ],
      "source": [
        "barbie_retriever_agent_executor({\"input\" : \"What is a very quick summary of the plot of the Barbie movie?\"})"
      ]
    },
    {
      "cell_type": "markdown",
      "metadata": {
        "id": "AzbEGOb4b6ga"
      },
      "source": [
        "### Oppenheimer Retrieval System\n",
        "\n",
        "We're going to repourpose some of what we created previously, but this time we'll explore a different multi-source retrieval system."
      ]
    },
    {
      "cell_type": "code",
      "execution_count": 17,
      "metadata": {
        "id": "VTnkPMvVb6ga"
      },
      "outputs": [],
      "source": [
        "oppenheimer_wikipedia_docs = WikipediaLoader(\n",
        "    query=\"oppenheimer (movie)\",\n",
        "    load_max_docs=1,\n",
        "    doc_content_chars_max=1_000_000,\n",
        ").load()\n",
        "\n",
        "oppenheimer_csv_docs = CSVLoader(\n",
        "    file_path=\"/content/drive/MyDrive/thotron/RAG/Week 1/Thursday/oppenheimer.csv\",\n",
        "    source_column=\"Review_Url\"\n",
        ").load()"
      ]
    },
    {
      "cell_type": "code",
      "execution_count": 19,
      "metadata": {
        "id": "a-SGlEJXb6gb"
      },
      "outputs": [],
      "source": [
        "opp_wikipedia_text_splitter = RecursiveCharacterTextSplitter(\n",
        "    chunk_size=500,\n",
        "    chunk_overlap=0,\n",
        "    length_function = len,\n",
        "    is_separator_regex= False,\n",
        "    separators=[\"\\n==\",\"\\n\",\" \"]\n",
        ")\n",
        "opp_csv_text_splitter = RecursiveCharacterTextSplitter(\n",
        "    chunk_size=1000,\n",
        "    chunk_overlap=50,\n",
        "    length_function = len,\n",
        "    is_separator_regex= False,\n",
        "    separators=[\"\\n\",\" \"]\n",
        ")\n",
        "\n",
        "chunked_opp_wikipedia_docs = opp_wikipedia_text_splitter.transform_documents(oppenheimer_wikipedia_docs)\n",
        "chunked_opp_csv_docs = opp_csv_text_splitter.transform_documents(oppenheimer_csv_docs)"
      ]
    },
    {
      "cell_type": "code",
      "execution_count": 21,
      "metadata": {
        "id": "NFpRwhQab6gb"
      },
      "outputs": [],
      "source": [
        "opp_csv_faiss_retriever = FAISS.from_documents(chunked_opp_csv_docs,embedder).as_retriever()\n",
        "\n",
        "# set up BM25 retriever\n",
        "opp_wikipedia_bm25_retriever = BM25Retriever.from_documents(\n",
        "    chunked_opp_wikipedia_docs\n",
        ")\n",
        "opp_wikipedia_bm25_retriever.k = 1\n",
        "\n",
        "# set up FAISS vector store\n",
        "opp_wikipedia_faiss_store = FAISS.from_documents(chunked_opp_wikipedia_docs,embedder)\n",
        "opp_wikipedia_faiss_retriever = opp_wikipedia_faiss_store.as_retriever(search_kwargs={\"k\": 1})\n",
        "\n",
        "# set up ensemble retriever\n",
        "opp_ensemble_retriever = EnsembleRetriever(\n",
        "    retrievers=[opp_wikipedia_bm25_retriever,opp_wikipedia_faiss_retriever],\n",
        "    weights=[0.25,0.75]\n",
        ")"
      ]
    },
    {
      "cell_type": "markdown",
      "metadata": {
        "id": "mAAtNVfxb6gb"
      },
      "source": [
        "#### Multi-source chain\n",
        "\n",
        "We're going to allow the LLM to decide which information is most -> least valuable.\n",
        "\n",
        "The way we'll do this is with LangChain's rather powerful \"Expression Language\"!\n",
        "\n",
        "> HINT: You can leverage [this](https://python.langchain.com/docs/use_cases/question_answering/how_to/multiple_retrieval) resource if you get stuck - but experiment with different prompts/formats."
      ]
    },
    {
      "cell_type": "code",
      "execution_count": 22,
      "metadata": {
        "id": "v3CIKl4Xb6gc"
      },
      "outputs": [],
      "source": [
        "from langchain.prompts import ChatPromptTemplate\n",
        "\n",
        "system_message = \"\"\"Use the information from the below two sources to answer any questions.\n",
        "\n",
        "Source 1: public user reviews about the Oppenheimer movie\n",
        "<source1>\n",
        "{source1}\n",
        "</source1>\n",
        "\n",
        "Source 2: the wikipedia page for the Oppenheimer movie including the plot summary, cast, and production information\n",
        "<source2>\n",
        "{source2}\n",
        "</source2>\n",
        "\"\"\"\n",
        "\n",
        "prompt = ChatPromptTemplate.from_messages([(\"system\", system_message), (\"human\", \"{question}\")])"
      ]
    },
    {
      "cell_type": "code",
      "execution_count": 23,
      "metadata": {
        "id": "0pfkX8Yqb6ge"
      },
      "outputs": [],
      "source": [
        "oppenheimer_multisource_chain = {\n",
        "    \"source1\": (lambda x: x[\"question\"]) | opp_ensemble_retriever,\n",
        "    \"source2\": (lambda x: x[\"question\"]) | opp_csv_faiss_retriever,\n",
        "    \"question\": lambda x: x[\"question\"],\n",
        "} | prompt | llm"
      ]
    },
    {
      "cell_type": "code",
      "execution_count": 24,
      "metadata": {
        "id": "CWACudoIb6gf",
        "colab": {
          "base_uri": "https://localhost:8080/"
        },
        "outputId": "5100e789-02a2-4712-b5eb-8d3fdf6de1d1"
      },
      "outputs": [
        {
          "output_type": "execute_result",
          "data": {
            "text/plain": [
              "AIMessage(content=\"People generally had positive opinions about the Oppenheimer movie. Critics praised the film for its direction, cast performances (especially from Cillian Murphy, Emily Blunt, and Robert Downey Jr.), visuals, screenplay, score, and acting. The movie received critical acclaim and was ranked as one of Christopher Nolan's best films. It also received high ratings on review aggregator websites like Rotten Tomatoes. Audience members found the film compelling, engaging, and visually stunning, with some praising the actors' performances. However, there were some criticisms about historical accuracy and emotional depth in the portrayal of the main character, J. Robert Oppenheimer.\")"
            ]
          },
          "metadata": {},
          "execution_count": 24
        }
      ],
      "source": [
        "oppenheimer_multisource_chain.invoke({\"question\" : \"What did people think of the Oppenheimer movie?\"})"
      ]
    },
    {
      "cell_type": "markdown",
      "metadata": {
        "id": "u8LoBU59b6gg"
      },
      "source": [
        "# Agent Creation\n",
        "\n",
        "Now we can finally start building our Agent!\n",
        "\n",
        "The first thing we'll need to do is provide our Agent a Toolbelt. (list of tools). Much like Batman, our LLM-powered Agent can use these tools as it sees fit.\n",
        "\n",
        "While the examples we're constructing in this notebook are straightforward for brevity and simplicities sake - there is no limit to what you can build with Agents, as we'll see as we progress through the program.\n",
        "\n",
        "So, let's begin by setting up our Tools!\n",
        "\n",
        "You'll notice that we have to set up a function to allow our `OppenheimerInfo` tool to interface with the Agent - this is due to it have a specific required input. Creating custom tools is a pattern that you'll want to grow acustomed to as you use LangChain more and more."
      ]
    },
    {
      "cell_type": "code",
      "execution_count": 25,
      "metadata": {
        "id": "2m_-wg54b6gh"
      },
      "outputs": [],
      "source": [
        "from langchain.agents import Tool\n",
        "\n",
        "def query_oppenheimer(input):\n",
        "    return oppenheimer_multisource_chain.invoke({\"question\" : input})\n",
        "\n",
        "tools = [\n",
        "    Tool(\n",
        "        name = \"BarbieInfo\",\n",
        "        func=barbie_retriever_agent_executor.invoke,\n",
        "        description=\"useful for when you need to answer questions about Barbie. Input should be a fully formed question.\"\n",
        "    ),\n",
        "    Tool(\n",
        "        name = \"OppenheimerInfo\",\n",
        "        func=query_oppenheimer,\n",
        "        description=\"useful for when you need to answer questions about Oppenheimer. Input should be a fully formed question.\"\n",
        "    ),\n",
        "]"
      ]
    },
    {
      "cell_type": "markdown",
      "metadata": {
        "id": "N_yLasAzb6gh"
      },
      "source": [
        "Now that we've set up our Agents toolbelt, let's set up the LLM that will be powering it!\n",
        "\n",
        "I would suggest playing around with these prompts - and experiments to find what works best for you.\n",
        "\n",
        "RELEVANT DOCS:\n",
        "- [`ZeroShotAgent`](https://api.python.langchain.com/en/latest/agents/langchain.agents.mrkl.base.ZeroShotAgent.html#langchain-agents-mrkl-base-zeroshotagent)"
      ]
    },
    {
      "cell_type": "code",
      "execution_count": 26,
      "metadata": {
        "id": "ienZIJnub6gi"
      },
      "outputs": [],
      "source": [
        "from langchain.agents import ZeroShotAgent, AgentExecutor\n",
        "\n",
        "prefix = \"\"\"Have a conversation with a human, answering the following questions as best you can. You have access to the following tools:\"\"\"\n",
        "suffix = \"\"\"Begin!\"\n",
        "\n",
        "Question: {input}\n",
        "{agent_scratchpad}\"\"\"\n",
        "\n",
        "prompt = ZeroShotAgent.create_prompt(\n",
        "    tools,\n",
        "    prefix=prefix,\n",
        "    suffix =suffix,\n",
        "    input_variables=[\"input\",\"agent_scratchpad\"]\n",
        ")"
      ]
    },
    {
      "cell_type": "code",
      "execution_count": 28,
      "metadata": {
        "id": "QUv3QkRNb6gi"
      },
      "outputs": [],
      "source": [
        "from langchain import LLMChain\n",
        "\n",
        "llm_chain = LLMChain(llm=llm , prompt=prompt)"
      ]
    },
    {
      "cell_type": "markdown",
      "metadata": {
        "id": "449Dx5heb6gi"
      },
      "source": [
        "All that's left to do now is create our `ZeroShotAgent` and our `AgentExecutor`, which are the \"reasoner\" and \"actor\" halfs of the `ReAct` method of Agent implementation.\n",
        "\n",
        "Read all about the `ReAct` framework [here](https://react-lm.github.io/)"
      ]
    },
    {
      "cell_type": "code",
      "execution_count": 31,
      "metadata": {
        "id": "0EROM50fb6gi",
        "colab": {
          "base_uri": "https://localhost:8080/"
        },
        "outputId": "697b0aab-44c0-44e7-d58c-20abe1893f21"
      },
      "outputs": [
        {
          "output_type": "stream",
          "name": "stderr",
          "text": [
            "/usr/local/lib/python3.10/dist-packages/langchain_core/_api/deprecation.py:117: LangChainDeprecationWarning: The class `langchain.agents.mrkl.base.ZeroShotAgent` was deprecated in langchain 0.1.0 and will be removed in 0.2.0. Use create_react_agent instead.\n",
            "  warn_deprecated(\n"
          ]
        }
      ],
      "source": [
        "barbenheimer_agent = ZeroShotAgent(\n",
        "    llm_chain=llm_chain,\n",
        "    tools=tools,\n",
        "    verbose=True)\n",
        "\n",
        "barbenheimer_agent_chain = AgentExecutor.from_agent_and_tools(\n",
        "    agent=barbenheimer_agent,\n",
        "    tools=tools,\n",
        "    verbose=1)"
      ]
    },
    {
      "cell_type": "markdown",
      "metadata": {
        "id": "-h7VE4jKb6go"
      },
      "source": [
        "## Conclusion\n",
        "\n",
        "All that is left to do now, is feed inputs to your Agent and watch it work!\n",
        "\n",
        "Remember to use the `{\"input\" : \"YOUR QUERY HERE\"}` format when prompting the Agent."
      ]
    },
    {
      "cell_type": "code",
      "execution_count": 32,
      "metadata": {
        "id": "9-4Mndebb6go",
        "colab": {
          "base_uri": "https://localhost:8080/"
        },
        "outputId": "43a4acd6-53de-451b-ca96-03ea7df03d7c"
      },
      "outputs": [
        {
          "output_type": "stream",
          "name": "stdout",
          "text": [
            "\n",
            "\n",
            "\u001b[1m> Entering new AgentExecutor chain...\u001b[0m\n",
            "\u001b[32;1m\u001b[1;3mThought: I need to find out what people liked about the Barbie movie.\n",
            "Action: BarbieInfo\n",
            "Action Input: What did people like about the Barbie movie?\u001b[0m\n",
            "\n",
            "\u001b[1m> Entering new AgentExecutor chain...\u001b[0m\n",
            "\u001b[32;1m\u001b[1;3mPeople liked the Barbie movie for various reasons, including:\n",
            "\n",
            "1. Fun of seeing a doll come to life\n",
            "2. Theme of empowerment\n",
            "3. Attention to details\n",
            "4. Margot Robbie's performance as Barbie\n",
            "5. Highlighting the absurdity of Barbie's world\n",
            "6. Incorporation of adult humor\n",
            "7. Mix of fantasy elements\n",
            "\n",
            "These aspects contributed to the positive reception of the movie among viewers.\u001b[0m\n",
            "\n",
            "\u001b[1m> Finished chain.\u001b[0m\n",
            "\n",
            "Observation: \u001b[36;1m\u001b[1;3m{'input': 'What did people like about the Barbie movie?', 'chat_history': [HumanMessage(content='Did people like Barbie, or did they find it too Philosphical? If they did, can you tell me why the movie is so Philosophical?'), AIMessage(content='', additional_kwargs={'function_call': {'arguments': '{\"query\":\"Barbie movie reviews\"}', 'name': 'PublicReviews'}}), FunctionMessage(content='Review_Date: 29 July 2023\\nAuthor: planktonrules\\nRating: 7\\nReview_Title: Good...not great\\nReview: \"Barbie\" is a movie that is setting all sorts of records, so it\\'s obvious that the film is touching many people. For some, it\\'s the fun of seeing a doll come to life, for others it\\'s the theme of empowerment that make the movie a big hit. As for me, I did like it and thought it was a pretty good movie...but it\\'s not for everyone.\\nReview_Url: /review/rw9243378/?ref_=tt_urv\\n\\nReview_Date: 7 August 2023\\nAuthor: bradykitchen-33648\\nRating: 6\\nReview_Title: Barbie: Review\\nReview: Good movie not a great one.\\nReview_Url: /review/rw9243378/?ref_=tt_urv\\n\\nReview_Date: 19 July 2023\\nAuthor: mieriks\\nRating: 7\\nReview_Title: Fantastic attention to details\\nReview: This movie, about Barbie who suffers a crisis that leads her to question her world and her existence, is a good fantasy movie!\\nReview_Url: /review/rw9243378/?ref_=tt_urv\\n\\nReview_Date: 30 July 2023\\nAuthor: Imaculata\\nRating: 7\\nReview_Title: Funny and entertaining but kind of a mess\\nReview: The Barbie movie is a very mixed bag. It tries to appeal to both young girls and adults it seems, but this leads it to be very inconsistent with its humor. Margot Robbie does a fantastic job as Barbie and especially the opening works really well in highlighting the absurdity of Barbie\\'s world, where its houses are all open and have no stairs, and its showers have no water and the fridge is filled with a drawing of groceries. All that works fantastic. But mixed into this is a lot of adult humor and sexual innuendo, which makes for a strange mix. It isn\\'t until after the first act, where the movie tries to be more than just a movie about toys, that it kind of falls apart.\\nReview_Url: /review/rw9243378/?ref_=tt_urv', name='PublicReviews'), AIMessage(content='The Barbie movie received mixed reviews from viewers. Some people enjoyed the movie for its fun and empowerment themes, while others found it to be a bit inconsistent and not for everyone. One reviewer mentioned that the movie explores Barbie suffering a crisis that leads her to question her world and existence, adding a philosophical element to the storyline. Additionally, the movie tries to appeal to both young girls and adults, incorporating adult humor and themes, which may have contributed to the mixed reactions.'), HumanMessage(content='What is a very quick summary of the plot of the Barbie movie?'), AIMessage(content='', additional_kwargs={'function_call': {'arguments': '{\"query\":\"Barbie movie plot\"}', 'name': 'wikipedia'}}), FunctionMessage(content='Barbie in a toy box for remanufacturing, but she escapes with Gloria and Sasha\\'s help, and the three travel to Barbieland with Mattel executives in pursuit.\\n\\nsong, director Greta Gerwig said that she was a fan of Matchbox Twenty and \"I never put anything in a movie I don\\'t love.\" \"Spice Up Your Life\" by Spice Girls plays in a flashback scene showing a little girl\\'s rough play creating \"Weird Barbie.\"', name='wikipedia'), AIMessage(content='The quick summary of the Barbie movie plot is that Barbie is in a toy box for remanufacturing but escapes with the help of Gloria and Sasha. They travel to Barbieland while being pursued by Mattel executives.'), HumanMessage(content='What did people like about the Barbie movie?'), AIMessage(content=\"People liked the Barbie movie for various reasons, including:\\n\\n1. Fun of seeing a doll come to life\\n2. Theme of empowerment\\n3. Attention to details\\n4. Margot Robbie's performance as Barbie\\n5. Highlighting the absurdity of Barbie's world\\n6. Incorporation of adult humor\\n7. Mix of fantasy elements\\n\\nThese aspects contributed to the positive reception of the movie among viewers.\")], 'output': \"People liked the Barbie movie for various reasons, including:\\n\\n1. Fun of seeing a doll come to life\\n2. Theme of empowerment\\n3. Attention to details\\n4. Margot Robbie's performance as Barbie\\n5. Highlighting the absurdity of Barbie's world\\n6. Incorporation of adult humor\\n7. Mix of fantasy elements\\n\\nThese aspects contributed to the positive reception of the movie among viewers.\", 'intermediate_steps': []}\u001b[0m\n",
            "Thought:\u001b[32;1m\u001b[1;3mI now know what people liked about the Barbie movie.\n",
            "\n",
            "Final Answer: People liked the Barbie movie for various reasons, including the fun of seeing a doll come to life, the theme of empowerment, attention to details, Margot Robbie's performance as Barbie, highlighting the absurdity of Barbie's world, incorporation of adult humor, and mix of fantasy elements.\u001b[0m\n",
            "\n",
            "\u001b[1m> Finished chain.\u001b[0m\n"
          ]
        },
        {
          "output_type": "execute_result",
          "data": {
            "text/plain": [
              "{'input': 'What did people like about the Barbie movie?',\n",
              " 'output': \"People liked the Barbie movie for various reasons, including the fun of seeing a doll come to life, the theme of empowerment, attention to details, Margot Robbie's performance as Barbie, highlighting the absurdity of Barbie's world, incorporation of adult humor, and mix of fantasy elements.\"}"
            ]
          },
          "metadata": {},
          "execution_count": 32
        }
      ],
      "source": [
        "barbenheimer_agent_chain.invoke({\"input\" : \"What did people like about the Barbie movie?\"})"
      ]
    },
    {
      "cell_type": "code",
      "execution_count": 33,
      "metadata": {
        "id": "QRMWn3e2b6go",
        "colab": {
          "base_uri": "https://localhost:8080/",
          "height": 298
        },
        "outputId": "12ebc7c6-9c69-40b0-9d20-d090fd5deb98"
      },
      "outputs": [
        {
          "output_type": "stream",
          "name": "stderr",
          "text": [
            "/usr/local/lib/python3.10/dist-packages/langchain_core/_api/deprecation.py:117: LangChainDeprecationWarning: The function `run` was deprecated in LangChain 0.1.0 and will be removed in 0.2.0. Use invoke instead.\n",
            "  warn_deprecated(\n"
          ]
        },
        {
          "output_type": "stream",
          "name": "stdout",
          "text": [
            "\n",
            "\n",
            "\u001b[1m> Entering new AgentExecutor chain...\u001b[0m\n",
            "\u001b[32;1m\u001b[1;3mThought: I need to find out what specific aspects of the Oppenheimer movie people enjoyed.\n",
            "Action: OppenheimerInfo\n",
            "Action Input: \"What aspects of the Oppenheimer movie did people enjoy?\"\u001b[0m\n",
            "Observation: \u001b[33;1m\u001b[1;3mcontent=\"People enjoyed various aspects of the Oppenheimer movie, as highlighted in the reviews:\\n\\n1. **Direction**: Critics praised the direction of the film.\\n2. **Cast Performances**: Particularly, the performances of Cillian Murphy, Emily Blunt, and Robert Downey Jr. were highly acclaimed.\\n3. **Visuals**: The cinematography and visuals were crafted beautifully, enhancing the overall viewing experience.\\n4. **Screenplay**: The screenplay was well-received for its storytelling.\\n5. **Score**: The film's score was also appreciated.\\n6. **Historical Context**: The movie made the complicated story of J. Robert Oppenheimer compelling, engaging, and simple to understand.\\n7. **Interest in History**: It sparked an interest in history, especially for those familiar with the book on which the film is based.\\n8. **Acting**: The acting was outstanding, with memorable moments and tense scenes between actors.\\n9. **Cinematography**: The use of IMAX 70mm and black-and-white film photography was particularly noted.\\n10. **Entertainment Value**: Viewers found the film entertaining and engaging, despite any historical inaccuracies or omissions.\"\u001b[0m\n",
            "Thought:\u001b[32;1m\u001b[1;3mI have gathered information on what people liked about the Oppenheimer movie.\n",
            "Final Answer: People enjoyed the direction, cast performances, visuals, screenplay, score, historical context, interest in history, acting, cinematography, and entertainment value of the Oppenheimer movie.\u001b[0m\n",
            "\n",
            "\u001b[1m> Finished chain.\u001b[0m\n"
          ]
        },
        {
          "output_type": "execute_result",
          "data": {
            "text/plain": [
              "'People enjoyed the direction, cast performances, visuals, screenplay, score, historical context, interest in history, acting, cinematography, and entertainment value of the Oppenheimer movie.'"
            ],
            "application/vnd.google.colaboratory.intrinsic+json": {
              "type": "string"
            }
          },
          "metadata": {},
          "execution_count": 33
        }
      ],
      "source": [
        "barbenheimer_agent_chain.run({\"input\" : \"What did people like about the Oppenheimer movie?\"})"
      ]
    },
    {
      "cell_type": "code",
      "execution_count": null,
      "metadata": {
        "id": "Szgql1EEb6go",
        "colab": {
          "base_uri": "https://localhost:8080/"
        },
        "outputId": "6f8d3c69-fa43-4397-e89c-3d06c7b67fd2"
      },
      "outputs": [
        {
          "output_type": "stream",
          "name": "stdout",
          "text": [
            "\n",
            "\n",
            "\u001b[1m> Entering new AgentExecutor chain...\u001b[0m\n",
            "\u001b[32;1m\u001b[1;3mThought: I need to gather information about both Barbie and Oppenheimer to see if they share similar themes or ideas.\n",
            "Action: BarbieInfo\n",
            "Action Input: \"What are some common themes in Barbie movies?\"\u001b[0m\n",
            "\n",
            "\u001b[1m> Entering new AgentExecutor chain...\u001b[0m\n",
            "\u001b[32;1m\u001b[1;3m\n",
            "Invoking: `wikipedia` with `{'query': 'Barbie movies common themes'}`\n",
            "\n",
            "\n",
            "\u001b[0m\u001b[36;1m\u001b[1;3mBarbie has been characterized as exploring themes of existentialism. Lucy Ford of GQ wrote that the film \"ruminates on the very idea of what makes us human, the idea of 'the other', whether there's truly such a thing as autonomy or if we're all simply pawns to be picked up and disposed of when we are no longer useful.\" Ford observed that, in the film, Barbie and Ken go on \"opposite but equal\" journeys of self-discovery, after venturing out into the Real World and learning that it is an\n",
            "\n",
            "qualifying that its themes were too often advanced by slogans rather than the experiences of its characters.\u001b[0m\u001b[32;1m\u001b[1;3mSome common themes in Barbie movies include:\n",
            "\n",
            "1. Existentialism\n",
            "2. Self-discovery\n",
            "3. Autonomy\n",
            "4. Human nature\n",
            "5. Empowerment\n",
            "6. Friendship\n",
            "7. Adventure\n",
            "8. Fantasy\n",
            "\n",
            "These themes are often explored through the characters and storylines in Barbie movies, providing viewers with messages of empowerment, self-discovery, and friendship.\u001b[0m\n",
            "\n",
            "\u001b[1m> Finished chain.\u001b[0m\n",
            "\n",
            "Observation: \u001b[36;1m\u001b[1;3m{'input': 'What are some common themes in Barbie movies?', 'chat_history': [HumanMessage(content='Did people like Barbie, or did they find it too Philosphical? If they did, can you tell me why the movie is so Philosophical?'), AIMessage(content='', additional_kwargs={'function_call': {'arguments': '{\"query\":\"Barbie movie reviews\"}', 'name': 'PublicReviews'}}), FunctionMessage(content='Review_Date: 29 July 2023\\nAuthor: planktonrules\\nRating: 7\\nReview_Title: Good...not great\\nReview: \"Barbie\" is a movie that is setting all sorts of records, so it\\'s obvious that the film is touching many people. For some, it\\'s the fun of seeing a doll come to life, for others it\\'s the theme of empowerment that make the movie a big hit. As for me, I did like it and thought it was a pretty good movie...but it\\'s not for everyone.\\nReview_Url: /review/rw9243378/?ref_=tt_urv\\n\\nReview_Date: 7 August 2023\\nAuthor: bradykitchen-33648\\nRating: 6\\nReview_Title: Barbie: Review\\nReview: Good movie not a great one.\\nReview_Url: /review/rw9243378/?ref_=tt_urv\\n\\nReview_Date: 19 July 2023\\nAuthor: mieriks\\nRating: 7\\nReview_Title: Fantastic attention to details\\nReview: This movie, about Barbie who suffers a crisis that leads her to question her world and her existence, is a good fantasy movie!\\nReview_Url: /review/rw9243378/?ref_=tt_urv\\n\\nReview_Date: 30 July 2023\\nAuthor: Imaculata\\nRating: 7\\nReview_Title: Funny and entertaining but kind of a mess\\nReview: The Barbie movie is a very mixed bag. It tries to appeal to both young girls and adults it seems, but this leads it to be very inconsistent with its humor. Margot Robbie does a fantastic job as Barbie and especially the opening works really well in highlighting the absurdity of Barbie\\'s world, where its houses are all open and have no stairs, and its showers have no water and the fridge is filled with a drawing of groceries. All that works fantastic. But mixed into this is a lot of adult humor and sexual innuendo, which makes for a strange mix. It isn\\'t until after the first act, where the movie tries to be more than just a movie about toys, that it kind of falls apart.\\nReview_Url: /review/rw9243378/?ref_=tt_urv', name='PublicReviews'), AIMessage(content='The Barbie movie received mixed reviews from viewers. Some people enjoyed the movie for its fun and empowerment themes, while others found it to be a bit inconsistent and not for everyone. One reviewer mentioned that the movie explores Barbie suffering a crisis that leads her to question her world and existence, adding a philosophical element to the storyline. Additionally, the movie tries to appeal to both young girls and adults, incorporating adult humor and themes, which may have contributed to the mixed reactions.'), HumanMessage(content='What is a very quick summary of the plot of the Barbie movie?'), AIMessage(content='', additional_kwargs={'function_call': {'arguments': '{\"query\":\"Barbie movie plot\"}', 'name': 'wikipedia'}}), FunctionMessage(content='Barbie in a toy box for remanufacturing, but she escapes with Gloria and Sasha\\'s help, and the three travel to Barbieland with Mattel executives in pursuit.\\n\\nsong, director Greta Gerwig said that she was a fan of Matchbox Twenty and \"I never put anything in a movie I don\\'t love.\" \"Spice Up Your Life\" by Spice Girls plays in a flashback scene showing a little girl\\'s rough play creating \"Weird Barbie.\"', name='wikipedia'), AIMessage(content='The quick summary of the Barbie movie plot is that Barbie is in a toy box for remanufacturing but escapes with the help of Gloria and Sasha. They travel to Barbieland while being pursued by Mattel executives.'), HumanMessage(content='What did people like about the Barbie movie?'), AIMessage(content=\"People liked the Barbie movie for various reasons, including:\\n\\n1. Fun of seeing a doll come to life\\n2. Theme of empowerment\\n3. Attention to details\\n4. Margot Robbie's performance as Barbie\\n5. Highlighting the absurdity of Barbie's world\\n6. Incorporation of adult humor\\n7. Mix of fantasy elements\\n\\nThese aspects contributed to the positive reception of the movie among viewers.\"), HumanMessage(content='What are some common themes in Barbie movies?'), AIMessage(content='', additional_kwargs={'function_call': {'arguments': '{\"query\":\"Barbie movies common themes\"}', 'name': 'wikipedia'}}), FunctionMessage(content='Barbie has been characterized as exploring themes of existentialism. Lucy Ford of GQ wrote that the film \"ruminates on the very idea of what makes us human, the idea of \\'the other\\', whether there\\'s truly such a thing as autonomy or if we\\'re all simply pawns to be picked up and disposed of when we are no longer useful.\" Ford observed that, in the film, Barbie and Ken go on \"opposite but equal\" journeys of self-discovery, after venturing out into the Real World and learning that it is an\\n\\nqualifying that its themes were too often advanced by slogans rather than the experiences of its characters.', name='wikipedia'), AIMessage(content='Some common themes in Barbie movies include:\\n\\n1. Existentialism\\n2. Self-discovery\\n3. Autonomy\\n4. Human nature\\n5. Empowerment\\n6. Friendship\\n7. Adventure\\n8. Fantasy\\n\\nThese themes are often explored through the characters and storylines in Barbie movies, providing viewers with messages of empowerment, self-discovery, and friendship.')], 'output': 'Some common themes in Barbie movies include:\\n\\n1. Existentialism\\n2. Self-discovery\\n3. Autonomy\\n4. Human nature\\n5. Empowerment\\n6. Friendship\\n7. Adventure\\n8. Fantasy\\n\\nThese themes are often explored through the characters and storylines in Barbie movies, providing viewers with messages of empowerment, self-discovery, and friendship.', 'intermediate_steps': [(AgentActionMessageLog(tool='wikipedia', tool_input={'query': 'Barbie movies common themes'}, log=\"\\nInvoking: `wikipedia` with `{'query': 'Barbie movies common themes'}`\\n\\n\\n\", message_log=[AIMessage(content='', additional_kwargs={'function_call': {'arguments': '{\"query\":\"Barbie movies common themes\"}', 'name': 'wikipedia'}})]), 'Barbie has been characterized as exploring themes of existentialism. Lucy Ford of GQ wrote that the film \"ruminates on the very idea of what makes us human, the idea of \\'the other\\', whether there\\'s truly such a thing as autonomy or if we\\'re all simply pawns to be picked up and disposed of when we are no longer useful.\" Ford observed that, in the film, Barbie and Ken go on \"opposite but equal\" journeys of self-discovery, after venturing out into the Real World and learning that it is an\\n\\nqualifying that its themes were too often advanced by slogans rather than the experiences of its characters.')]}\u001b[0m\n",
            "Thought:\u001b[32;1m\u001b[1;3mI have gathered information about common themes in Barbie movies. Now, I need to gather information about Oppenheimer to see if they share similar themes or ideas.\n",
            "Action: OppenheimerInfo\n",
            "Action Input: \"What are some common themes in Oppenheimer's work?\"\u001b[0m"
          ]
        }
      ],
      "source": [
        "barbenheimer_agent_chain.run({\"input\" : \"Did the movies Barbie and Oppenheimer share similar themes or ideas?\"})"
      ]
    }
  ],
  "metadata": {
    "kernelspec": {
      "display_name": "barbenheimer-week-1",
      "language": "python",
      "name": "python3"
    },
    "language_info": {
      "codemirror_mode": {
        "name": "ipython",
        "version": 3
      },
      "file_extension": ".py",
      "mimetype": "text/x-python",
      "name": "python",
      "nbconvert_exporter": "python",
      "pygments_lexer": "ipython3",
      "version": "3.11.4"
    },
    "orig_nbformat": 4,
    "colab": {
      "provenance": [],
      "include_colab_link": true
    }
  },
  "nbformat": 4,
  "nbformat_minor": 0
}